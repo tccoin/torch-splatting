{
 "cells": [
  {
   "cell_type": "code",
   "execution_count": 1,
   "metadata": {},
   "outputs": [],
   "source": [
    "import torch"
   ]
  },
  {
   "cell_type": "code",
   "execution_count": 14,
   "metadata": {},
   "outputs": [
    {
     "data": {
      "text/plain": [
       "(tensor([[[ 0.,  0.],\n",
       "          [-2., -2.],\n",
       "          [-4., -4.]],\n",
       " \n",
       "         [[ 2.,  2.],\n",
       "          [ 0.,  0.],\n",
       "          [-2., -2.]],\n",
       " \n",
       "         [[ 4.,  4.],\n",
       "          [ 2.,  2.],\n",
       "          [ 0.,  0.]],\n",
       " \n",
       "         [[ 6.,  6.],\n",
       "          [ 4.,  4.],\n",
       "          [ 2.,  2.]],\n",
       " \n",
       "         [[ 8.,  8.],\n",
       "          [ 6.,  6.],\n",
       "          [ 4.,  4.]]]),\n",
       " torch.Size([5, 3, 2]))"
      ]
     },
     "execution_count": 14,
     "metadata": {},
     "output_type": "execute_result"
    }
   ],
   "source": [
    "a=torch.arange(10).reshape(5,2).unsqueeze(1)\n",
    "b=torch.arange(6).reshape(3,2).unsqueeze(0)\n",
    "tmp=(a-b).to(dtype=torch.float32)\n",
    "tmp,tmp.shape"
   ]
  },
  {
   "cell_type": "code",
   "execution_count": 16,
   "metadata": {},
   "outputs": [
    {
     "data": {
      "text/plain": [
       "torch.Size([5, 3])"
      ]
     },
     "execution_count": 16,
     "metadata": {},
     "output_type": "execute_result"
    }
   ],
   "source": [
    "torch.norm(tmp, p=2,dim=2)"
   ]
  },
  {
   "cell_type": "code",
   "execution_count": null,
   "metadata": {},
   "outputs": [],
   "source": []
  }
 ],
 "metadata": {
  "kernelspec": {
   "display_name": "Python 3",
   "language": "python",
   "name": "python3"
  },
  "language_info": {
   "codemirror_mode": {
    "name": "ipython",
    "version": 3
   },
   "file_extension": ".py",
   "mimetype": "text/x-python",
   "name": "python",
   "nbconvert_exporter": "python",
   "pygments_lexer": "ipython3",
   "version": "3.12.2"
  }
 },
 "nbformat": 4,
 "nbformat_minor": 2
}
