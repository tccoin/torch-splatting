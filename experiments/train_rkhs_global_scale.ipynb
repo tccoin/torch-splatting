{
 "cells": [
  {
   "cell_type": "code",
   "execution_count": 1,
   "metadata": {},
   "outputs": [],
   "source": [
    "%load_ext autoreload\n",
    "%autoreload 2\n",
    "\n",
    "import torch\n",
    "import numpy as np\n",
    "\n",
    "import sys\n",
    "sys.path.append('../')\n",
    "from rkhs_splatting.utils.data_utils import read_all\n",
    "from rkhs_splatting.utils.camera_utils import parse_camera\n",
    "from rkhs_splatting.rkhs_model import RKHSModel\n",
    "from rkhs_splatting.rkhs_render import RKHSRenderer\n",
    "from rkhs_splatting.rkhs_model_global_scale import RKHSModelGlobalScale\n",
    "from rkhs_splatting.rkhs_render_global_scale import RKHSRendererGlobalScale\n",
    "from rkhs_splatting.utils.point_utils import get_point_clouds\n",
    "\n",
    "import datetime\n",
    "import pathlib\n",
    "from icecream import ic\n",
    "from spatialmath import SE3\n",
    "import plotly.graph_objects as go\n",
    "\n",
    "from plotly_utils import *\n",
    "from test_utils import *\n",
    "from experiments.points_trainer import GSSTrainer"
   ]
  },
  {
   "cell_type": "code",
   "execution_count": 7,
   "metadata": {},
   "outputs": [
    {
     "data": {
      "application/vnd.jupyter.widget-view+json": {
       "model_id": "65476cb92dcc41e583726fba0ac6963c",
       "version_major": 2,
       "version_minor": 0
      },
      "text/plain": [
       "  0%|          | 0/10000 [00:00<?, ?it/s]"
      ]
     },
     "metadata": {},
     "output_type": "display_data"
    },
    {
     "name": "stdout",
     "output_type": "stream",
     "text": [
      "\n",
      "total\n",
      "tensor([-55465252.], device='cuda:1', grad_fn=<MulBackward0>)\n"
     ]
    },
    {
     "ename": "TypeError",
     "evalue": "unsupported format string passed to Tensor.__format__",
     "output_type": "error",
     "traceback": [
      "\u001b[0;31m---------------------------------------------------------------------------\u001b[0m",
      "\u001b[0;31mTypeError\u001b[0m                                 Traceback (most recent call last)",
      "Cell \u001b[0;32mIn[7], line 57\u001b[0m\n\u001b[1;32m     36\u001b[0m trainer \u001b[38;5;241m=\u001b[39m GSSTrainer(\n\u001b[1;32m     37\u001b[0m     model\u001b[38;5;241m=\u001b[39mmap_model,\n\u001b[1;32m     38\u001b[0m     input_model\u001b[38;5;241m=\u001b[39minput_model,\n\u001b[0;32m   (...)\u001b[0m\n\u001b[1;32m     53\u001b[0m     writer\u001b[38;5;241m=\u001b[39m\u001b[38;5;28;01mFalse\u001b[39;00m\n\u001b[1;32m     54\u001b[0m )\n\u001b[1;32m     56\u001b[0m trainer\u001b[38;5;241m.\u001b[39mon_evaluate_step()\n\u001b[0;32m---> 57\u001b[0m \u001b[43mtrainer\u001b[49m\u001b[38;5;241;43m.\u001b[39;49m\u001b[43mtrain\u001b[49m\u001b[43m(\u001b[49m\u001b[43m)\u001b[49m\n\u001b[1;32m     59\u001b[0m \u001b[38;5;66;03m# open('../result/rkhs_global_scale_loss.txt', 'w').write('')\u001b[39;00m\n\u001b[1;32m     60\u001b[0m \u001b[38;5;66;03m# with LineProfiler(trainer.gauss_render.render) as lp:\u001b[39;00m\n\u001b[1;32m     61\u001b[0m \u001b[38;5;66;03m#     try:\u001b[39;00m\n\u001b[0;32m   (...)\u001b[0m\n\u001b[1;32m     68\u001b[0m \u001b[38;5;66;03m#     columns=('active_bytes.all.allocated', 'active_bytes.all.freed','active_bytes.all.current','active_bytes.all.peak', 'reserved_bytes.all.current')\u001b[39;00m\n\u001b[1;32m     69\u001b[0m \u001b[38;5;66;03m# )\u001b[39;00m\n",
      "File \u001b[0;32m~/projects/torch-splatting/experiments/../rkhs_splatting/trainer.py:166\u001b[0m, in \u001b[0;36mTrainer.train\u001b[0;34m(self, prof)\u001b[0m\n\u001b[1;32m    164\u001b[0m     \u001b[38;5;28mprint\u001b[39m(k)\n\u001b[1;32m    165\u001b[0m     \u001b[38;5;28mprint\u001b[39m(log_dict[k])\n\u001b[0;32m--> 166\u001b[0m     log_str \u001b[38;5;241m+\u001b[39m\u001b[38;5;241m=\u001b[39m \u001b[38;5;124;43m\"\u001b[39;49m\u001b[38;5;124;43m \u001b[39;49m\u001b[38;5;132;43;01m{}\u001b[39;49;00m\u001b[38;5;124;43m: \u001b[39;49m\u001b[38;5;132;43;01m{:.3f}\u001b[39;49;00m\u001b[38;5;124;43m\"\u001b[39;49m\u001b[38;5;241;43m.\u001b[39;49m\u001b[43mformat\u001b[49m\u001b[43m(\u001b[49m\u001b[43mk\u001b[49m\u001b[43m,\u001b[49m\u001b[43m \u001b[49m\u001b[43mlog_dict\u001b[49m\u001b[43m[\u001b[49m\u001b[43mk\u001b[49m\u001b[43m]\u001b[49m\u001b[43m)\u001b[49m\n\u001b[1;32m    168\u001b[0m pbar\u001b[38;5;241m.\u001b[39mset_description(log_str)\n\u001b[1;32m    170\u001b[0m \u001b[38;5;28mself\u001b[39m\u001b[38;5;241m.\u001b[39mopt\u001b[38;5;241m.\u001b[39mstep()\n",
      "File \u001b[0;32m~/.local/lib/python3.9/site-packages/torch/_tensor.py:966\u001b[0m, in \u001b[0;36mTensor.__format__\u001b[0;34m(self, format_spec)\u001b[0m\n\u001b[1;32m    964\u001b[0m \u001b[38;5;28;01mif\u001b[39;00m \u001b[38;5;28mself\u001b[39m\u001b[38;5;241m.\u001b[39mdim() \u001b[38;5;241m==\u001b[39m \u001b[38;5;241m0\u001b[39m \u001b[38;5;129;01mand\u001b[39;00m \u001b[38;5;129;01mnot\u001b[39;00m \u001b[38;5;28mself\u001b[39m\u001b[38;5;241m.\u001b[39mis_meta \u001b[38;5;129;01mand\u001b[39;00m \u001b[38;5;28mtype\u001b[39m(\u001b[38;5;28mself\u001b[39m) \u001b[38;5;129;01mis\u001b[39;00m Tensor:\n\u001b[1;32m    965\u001b[0m     \u001b[38;5;28;01mreturn\u001b[39;00m \u001b[38;5;28mself\u001b[39m\u001b[38;5;241m.\u001b[39mitem()\u001b[38;5;241m.\u001b[39m\u001b[38;5;21m__format__\u001b[39m(format_spec)\n\u001b[0;32m--> 966\u001b[0m \u001b[38;5;28;01mreturn\u001b[39;00m \u001b[38;5;28;43mobject\u001b[39;49m\u001b[38;5;241;43m.\u001b[39;49m\u001b[38;5;21;43m__format__\u001b[39;49m\u001b[43m(\u001b[49m\u001b[38;5;28;43mself\u001b[39;49m\u001b[43m,\u001b[49m\u001b[43m \u001b[49m\u001b[43mformat_spec\u001b[49m\u001b[43m)\u001b[49m\n",
      "\u001b[0;31mTypeError\u001b[0m: unsupported format string passed to Tensor.__format__"
     ]
    }
   ],
   "source": [
    "device = 'cuda'\n",
    "torch.cuda.set_device(1)\n",
    "folder = '../data/B075X65R3X'\n",
    "data = read_all(folder, resize_factor=0.5)\n",
    "data = {k: v.to(device) for k, v in data.items()}\n",
    "\n",
    "\n",
    "# use only one training image\n",
    "for key,value in data.items():\n",
    "    data[key] = value[0:1]\n",
    "\n",
    "# ic(data['camera'].shape)\n",
    "# ic(data['depth'].shape)\n",
    "# ic(data['alpha'].shape)\n",
    "\n",
    "\n",
    "points = get_point_clouds(data['camera'], data['depth'], data['alpha'], data['rgb'])\n",
    "# raw_points = points.random_sample(2**14)\n",
    "raw_points = points.generate_random_noise(2**14)\n",
    "# raw_points = points.generate_random_color(2**14)\n",
    "# raw_points.write_ply(open('points.ply', 'wb'))\n",
    "\n",
    "map_model = RKHSModelGlobalScale(sh_degree=4, debug=False, trainable=True)\n",
    "map_model.create_from_pcd(pcd=raw_points, initial_scaling=0.010)\n",
    "input_model = RKHSModelGlobalScale(sh_degree=4, debug=False, trainable=False)\n",
    "renderer = RKHSRendererGlobalScale(white_bkgd=True)\n",
    "\n",
    "folder_name = datetime.datetime.now().strftime(\"%Y-%m-%d__%H-%M-%S\")\n",
    "# folder_name = 'testt'\n",
    "results_folder = pathlib.Path('../result/'+folder_name)\n",
    "results_folder.mkdir(parents=True, exist_ok=True)\n",
    "\n",
    "\n",
    "n_train = 10000\n",
    "\n",
    "trainer = GSSTrainer(\n",
    "    model=map_model,\n",
    "    input_model=input_model,\n",
    "    renderer=renderer,\n",
    "    data=data,\n",
    "    use_input_frames=False,\n",
    "    train_batch_size=1, \n",
    "    train_num_steps=n_train,\n",
    "    i_image=n_train//400,\n",
    "    train_lr=3e-3,#3e-3\n",
    "    amp=True,\n",
    "    fp16=False,\n",
    "    results_folder=results_folder,\n",
    "    use_rkhs_rgb=True,\n",
    "    use_rkhs_geo=True,\n",
    "    min_scale=0.5,\n",
    "    radii_multiplier=5,\n",
    "    writer=False\n",
    ")\n",
    "\n",
    "trainer.on_evaluate_step()\n",
    "trainer.train()\n",
    "\n",
    "# open('../result/rkhs_global_scale_loss.txt', 'w').write('')\n",
    "# with LineProfiler(trainer.gauss_render.render) as lp:\n",
    "#     try:\n",
    "#         trainer.train()\n",
    "#     except torch.cuda.OutOfMemoryError as e:\n",
    "#         print(e)\n",
    "#         print('done')\n",
    "# lp.print_stats(\n",
    "#     stream=open('../result/rkhs_global_scale_loss.txt', 'a'),\n",
    "#     columns=('active_bytes.all.allocated', 'active_bytes.all.freed','active_bytes.all.current','active_bytes.all.peak', 'reserved_bytes.all.current')\n",
    "# )"
   ]
  }
 ],
 "metadata": {
  "kernelspec": {
   "display_name": "Python 3",
   "language": "python",
   "name": "python3"
  },
  "language_info": {
   "codemirror_mode": {
    "name": "ipython",
    "version": 3
   },
   "file_extension": ".py",
   "mimetype": "text/x-python",
   "name": "python",
   "nbconvert_exporter": "python",
   "pygments_lexer": "ipython3",
   "version": "3.9.19"
  }
 },
 "nbformat": 4,
 "nbformat_minor": 2
}
